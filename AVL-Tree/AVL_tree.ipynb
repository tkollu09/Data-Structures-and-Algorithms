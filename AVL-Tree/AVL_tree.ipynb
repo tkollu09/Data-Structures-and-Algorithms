{
  "cells": [
    {
      "cell_type": "markdown",
      "metadata": {
        "id": "sLf-4Umv32lC"
      },
      "source": [
        "Tree Node Class"
      ]
    },
    {
      "cell_type": "code",
      "execution_count": 12,
      "metadata": {
        "id": "jDHuLhuJ3y8e"
      },
      "outputs": [],
      "source": [
        "class TreeNode:\n",
        "    def __init__(self, key):\n",
        "        self.left = None\n",
        "        self.right = None\n",
        "        self.val = key\n",
        "        self.height = 1"
      ]
    },
    {
      "cell_type": "markdown",
      "metadata": {},
      "source": [
        "AVL Tree"
      ]
    },
    {
      "cell_type": "code",
      "execution_count": 11,
      "metadata": {},
      "outputs": [],
      "source": [
        "class AVLTree:\n",
        "    def __init__(self):\n",
        "        self.root = None\n",
        "\n",
        "    def insert(self, key):\n",
        "        if self.root is None:\n",
        "            self.root = TreeNode(key)\n",
        "        else:\n",
        "            self._insert(self.root, key)\n",
        "        self._insert(self.root, key)\n",
        "    \n",
        "    def _insert(self, node, key):\n",
        "        if key < node.val:\n",
        "            if node.left is None:\n",
        "                node.left = TreeNode(key)\n",
        "            else:\n",
        "                self._insert(node.left, key)\n",
        "        else:\n",
        "            if node.right is None:\n",
        "                node.right = TreeNode(key)\n",
        "            else:\n",
        "                self._insert(node.right, key)\n",
        "\n",
        "    def inorder_traversal(self):\n",
        "        if self.root:\n",
        "            self._inorder_traversal(self.root)\n",
        "        print()\n",
        "\n",
        "    def _inorder_traversal(self, node):\n",
        "        if node:\n",
        "            self._inorder_traversal(node.left)\n",
        "            print(node.val, end=\", \")\n",
        "            self._inorder_traversal(node.right)"
      ]
    },
    {
      "cell_type": "markdown",
      "metadata": {},
      "source": [
        "Test"
      ]
    },
    {
      "cell_type": "code",
      "execution_count": 13,
      "metadata": {},
      "outputs": [
        {
          "name": "stdout",
          "output_type": "stream",
          "text": [
            "10, 10, 20, 20, 30, 30, \n"
          ]
        }
      ],
      "source": [
        "avl = AVLTree()\n",
        "avl.insert(10)\n",
        "avl.insert(20)\n",
        "avl.insert(30)\n",
        "avl.inorder_traversal()  # Output: 10, 20, 30"
      ]
    }
  ],
  "metadata": {
    "colab": {
      "provenance": []
    },
    "kernelspec": {
      "display_name": ".venv",
      "language": "python",
      "name": "python3"
    },
    "language_info": {
      "codemirror_mode": {
        "name": "ipython",
        "version": 3
      },
      "file_extension": ".py",
      "mimetype": "text/x-python",
      "name": "python",
      "nbconvert_exporter": "python",
      "pygments_lexer": "ipython3",
      "version": "3.11.9"
    }
  },
  "nbformat": 4,
  "nbformat_minor": 0
}
